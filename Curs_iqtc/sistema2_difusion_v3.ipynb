{
 "cells": [
  {
   "cell_type": "markdown",
   "metadata": {},
   "source": [
    "# Sistema 2\n",
    "\n",
    "## Difusión de partículas\n",
    "En el problema anterior hemos introducido el funcionamiento básico de ESPResSO para realizar simulaciones de partículas únicamente bajo el potencial de interacción Lennard-Jones. Sin embargo, ahora nos planteamos el mismo sistema pero introduciendo el fenómeno de difusión de las partículas cuando se encuentran a una temperatura determinada. Para ello, definiremos los coeficientes de difusión de cada partícula y añadiremos un termostato de Langevin en nuestro sistema."
   ]
  },
  {
   "cell_type": "code",
   "execution_count": 1,
   "metadata": {},
   "outputs": [],
   "source": [
    "import espressomd\n",
    "import numpy as np\n",
    "import tipus_particules as tp"
   ]
  },
  {
   "cell_type": "markdown",
   "metadata": {},
   "source": [
    "### Configuración del sistema\n",
    "Definimos la variable <tt>temperatura</tt> en Kelvins i la constante de gases ideales <tt>R</tt> en J/K·mol. Es importante que las unidades de las variables sean coherentes entre ellas puesto que ESPResSO no predefine las variables del sistema. Por ejemplo, si introducimos una variable en $nm^{3}$ y otra en $dm^{3}$, tu sistema no representará lo que pretendes simular en realidad ya que ESPResSO no trabaja con unidades. Por lo tanto, debemos tener en cuenta las unidades de cada variable en el momento de introducirlas. En la siguiente celda definimos la caja de nuestro sistema en $nm^{3}$, la temperatura en $K$ i la energía en $J/mol$. \n",
    "\n",
    "Según las unidades que introduzcas en las variables de tu sistema, las unidades de otras magnitudes también irán definiéndose. Por ejemplo, si definimos la energía, la masa y la longitud del sistema, obtenemos directamente el tiempo con la siguiente ecuación.\n",
    "\n",
    "\\begin{equation}\n",
    "time = length \\sqrt{\\dfrac{mass}{energy}}\n",
    "\\end{equation}\n",
    "\n",
    "Entonces las unidades de los resultados obtenidos durante la integración o el análisis posterior dependrá de las unidades que hayas introducido en tus variables de configuración del sistema. \n",
    "Si se utiliza $Kg/mol$ para la masa, $J/(K·mol)$ para la energía y $nm$ para el espacio, las unidades de tiempo estarán dadas en $ns$.\n",
    "\n",
    "Ten esto presente en el momento de configurar tus sistemas."
   ]
  },
  {
   "cell_type": "code",
   "execution_count": 2,
   "metadata": {},
   "outputs": [],
   "source": [
    "#Dimensiones del sistema:\n",
    "system=espressomd.System(box_l=[10,10,10])   # Inicializamos el sistema. Caja de 10x10x10 nm3\n",
    "\n",
    "# Parámetros del sistema\n",
    "temperatura = 300                # en K\n",
    "R           = 8.314472           # en J/(K mol) \n",
    "RT          = temperatura * R    # en J/mol"
   ]
  },
  {
   "cell_type": "markdown",
   "metadata": {},
   "source": [
    "### Definición y posición de las partículas"
   ]
  },
  {
   "cell_type": "code",
   "execution_count": 3,
   "metadata": {},
   "outputs": [],
   "source": [
    "#Partículas del sistema\n",
    "\n",
    "#Código numérico de los tipos de partículas.\n",
    "type_A = 0     \n",
    "type_P = 1\n",
    "\n",
    "#Parámetros de carga\n",
    "charges = {}\n",
    "charges[type_A] = 0\n",
    "charges[type_P] = 0\n",
    "\n",
    "#Parámetros de masa en kg/mol\n",
    "mass = {}\n",
    "mass[type_A] = 3.000   # En kg/mol\n",
    "mass[type_P] = 0.300   # En kg/mol\n",
    "\n",
    "# \n",
    "D_coeff = {}  # En nm2/ns\n",
    "D_coeff[type_A] = 0.2      # En nm2/ns  Partículas Lentas\n",
    "D_coeff[type_P] = 2.0      # En nm2/ns  Partículas Rápidas\n",
    "\n",
    "\n",
    "# Fricciones. Isotrópicas \n",
    "\n",
    "Fric={}\n",
    "Fric[type_A]=[RT/D_coeff[type_A]]*3\n",
    "Fric[type_P]=[RT/D_coeff[type_P]]*3"
   ]
  },
  {
   "cell_type": "markdown",
   "metadata": {},
   "source": [
    "A partir de la temperatura inicial y los coeficientes de difusión, calculamos el coeficiente de fricción. En el momento de definir la partícula, introducimos el coeficiente de fricción en la variable <tt>gamma</tt>. Fíjate que las partículas <tt>type_A</tt> tienen un coeficiente de difusión más pequeño y, por lo tanto, se desplazarán más lentamente respecto las partículas <tt>type_P</tt>."
   ]
  },
  {
   "cell_type": "code",
   "execution_count": 4,
   "metadata": {},
   "outputs": [
    {
     "data": {
      "text/plain": [
       "<espressomd.particle_data.ParticleHandle at 0x7f43c9357750>"
      ]
     },
     "execution_count": 4,
     "metadata": {},
     "output_type": "execute_result"
    }
   ],
   "source": [
    "#Generamos tres partículas A\n",
    "\n",
    "system.part.add(id=0,type=type_A, pos=[1.0,0.0,0],q=charges[type_A], mass=mass[type_A], gamma=Fric[type_A])\n",
    "system.part.add(id=1,type=type_A, pos=[4.0,0.0,0],q=charges[type_A], mass=mass[type_A], gamma=Fric[type_A])\n",
    "system.part.add(id=2,type=type_A, pos=[2.0,4.0,0],q=charges[type_A], mass=mass[type_A], gamma=Fric[type_A])\n",
    "\n",
    "# Generamos una partícula P\n",
    "system.part.add(id=3,type=type_P, pos=[2.0,2.0,0],q=charges[type_P], mass=mass[type_P], gamma=Fric[type_P])"
   ]
  },
  {
   "cell_type": "markdown",
   "metadata": {},
   "source": [
    "### Definición de las interacciones"
   ]
  },
  {
   "cell_type": "code",
   "execution_count": 5,
   "metadata": {},
   "outputs": [],
   "source": [
    "# Interacciones de volumen excluido: WCA\n",
    "\n",
    "epsi=1000.     # En J/(K mol)   \n",
    "diametro=0.2   # En nm\n",
    "    \n",
    "system.non_bonded_inter[type_A,type_A].wca.set_params(epsilon=epsi, sigma=diametro)\n",
    "system.non_bonded_inter[type_A,type_P].wca.set_params(epsilon=epsi, sigma=diametro)"
   ]
  },
  {
   "cell_type": "markdown",
   "metadata": {},
   "source": [
    "### Integración del sistema\n",
    "Aparte del integrador, también definimos el termostato de Langevin con el comando <tt>system.thermostat.set_langevin</tt>. Es necesario introducir la temperatura inicial (RT), el coeficiente de fricción del baño (<tt>gamma</tt>) y la semilla para inicializar el baño (<tt>seed</tt>, debe ser positiva)."
   ]
  },
  {
   "cell_type": "code",
   "execution_count": 6,
   "metadata": {},
   "outputs": [],
   "source": [
    "# Activamos el Modelo Velocity-Verlet\n",
    "system.integrator.set_vv()\n",
    "\n",
    "# Activamos el termostáto\n",
    "Semilla=45\n",
    "system.thermostat.set_langevin(kT=RT, gamma=1 , seed=Semilla)"
   ]
  },
  {
   "cell_type": "code",
   "execution_count": 7,
   "metadata": {},
   "outputs": [],
   "source": [
    "system.time_step =     0.00001    # ns\n",
    "system.cell_system.skin =  0.3  \n",
    "\n",
    "niter=1\n",
    "pasos=500\n",
    "\n",
    "tp.save_vxyz(system,'Trajectory2.xyz','w',aplicar_PBC=False)\n",
    "\n",
    "coor=[]\n",
    "\n",
    "for it in range(pasos):\n",
    "    system.integrator.run(niter)                                    # Realiza niter de dinámica\n",
    "    tp.save_vxyz(system,'Trajectory2.xyz','a',aplicar_PBC=False)    # Save coordenada\n",
    "    coor.append(system.part[3].pos)"
   ]
  },
  {
   "cell_type": "code",
   "execution_count": 8,
   "metadata": {},
   "outputs": [
    {
     "data": {
      "image/png": "[encoded data removed]",
      "text/plain": [
       "<Figure size 432x288 with 1 Axes>"
      ]
     },
     "metadata": {
      "needs_background": "light"
     },
     "output_type": "display_data"
    }
   ],
   "source": [
    "import matplotlib.pyplot as plt\n",
    "coor=np.array(coor)\n",
    "\n",
    "plt.ylabel('Coordinate (nm)')\n",
    "plt.xlabel('Step')\n",
    "plt.plot(coor)\n",
    "plt.legend([\"X\",\"Y\",\"Z\"])\n",
    "\n",
    "plt.show()"
   ]
  },
  {
   "cell_type": "markdown",
   "metadata": {},
   "source": [
    "# Práctica\n",
    "\n",
    "- Realiza otras simulaciones cambiando el coeficiente de difusión en el rango de 2.0 a 0.01 nm2/ns. Cambia la masa de las partículas P a 3 Kg/mol. Visualiza las trayectorias con VMD.\n",
    "- Incrementa el tiempo de simulación cambiando la variable pasos\n"
   ]
  },
  {
   "cell_type": "code",
   "execution_count": null,
   "metadata": {},
   "outputs": [],
   "source": []
  }
 ],
 "metadata": {
  "kernelspec": {
   "display_name": "Python 3",
   "language": "python",
   "name": "python3"
  },
  "language_info": {
   "codemirror_mode": {
    "name": "ipython",
    "version": 3
   },
   "file_extension": ".py",
   "mimetype": "text/x-python",
   "name": "python",
   "nbconvert_exporter": "python",
   "pygments_lexer": "ipython3",
   "version": "3.8.10"
  }
 },
 "nbformat": 4,
 "nbformat_minor": 4
}
