{
 "cells": [
  {
   "cell_type": "markdown",
   "metadata": {},
   "source": [
    "# Sistema 3\n",
    "\n",
    "## Simulación de sistemas de Polímeros\n",
    "En este problema pasamos a un sistema con mayor complejidad. Simularemos dos péptidos de <tt>N_Beads</tt> monómeros con distinta carga. ESPResSO tiene disponible un comando para preparar posiciones aleatorias para definir las partículas de los polímeros. Además introduciremos interacciones enlazantes a partir de un potencial armónico e interacciones electrostáticas en nuestro sistema cargado.\n",
    "\n",
    "En este caso, nos hace falta importar nuevas funcionalidades del módulo <tt>espressomd</tt>."
   ]
  },
  {
   "cell_type": "code",
   "execution_count": 1,
   "metadata": {},
   "outputs": [],
   "source": [
    "import espressomd\n",
    "from espressomd import polymer\n",
    "from espressomd.interactions import HarmonicBond\n",
    "import espressomd.electrostatics\n",
    "import numpy as np\n",
    "import tipus_particules as tp"
   ]
  },
  {
   "cell_type": "code",
   "execution_count": 2,
   "metadata": {},
   "outputs": [],
   "source": [
    "# Dimensiones del sistema\n",
    "system=espressomd.System(box_l=[10,10,10])   # Inicializamos el sistema. Caja de 10x10x10 nm3\n",
    "\n",
    "# Parámetros del sistema\n",
    "temperatura = 300\n",
    "R           = 8.314472\n",
    "RT          = temperatura * R\n",
    "\n",
    "# Parámetros de los polímeros\n",
    "N_Beads=10\n",
    "dist_Beads=0.5   # nm\n",
    "Semilla = 20"
   ]
  },
  {
   "cell_type": "code",
   "execution_count": 3,
   "metadata": {},
   "outputs": [],
   "source": [
    "#Partículas del sistema\n",
    "\n",
    "#Código numérico de los tipos de partículas.\n",
    "type_A = 0     \n",
    "type_Q = 2\n",
    "\n",
    "#Parámetros de carga\n",
    "charges = {}\n",
    "charges[type_A] = 0\n",
    "charges[type_Q] = -1.\n",
    "\n",
    "#Parámetros de masa en kg/mol\n",
    "mass = {}\n",
    "mass[type_A] = 0.050   # En kg/mol\n",
    "mass[type_Q] = 0.050   # En kg/mol\n",
    "\n",
    "# \n",
    "D_coeff = {}  # En nm2/ns\n",
    "D_coeff[type_A] = 1.0      \n",
    "D_coeff[type_Q] = 1.0      \n",
    "\n",
    "\n",
    "# Fricciones. Isotrópicas \n",
    "\n",
    "Fric={}\n",
    "Fric[type_A]=[RT/D_coeff[type_A]]*3\n",
    "Fric[type_Q]=[RT/D_coeff[type_Q]]*3"
   ]
  },
  {
   "cell_type": "code",
   "execution_count": 4,
   "metadata": {},
   "outputs": [
    {
     "data": {
      "text/plain": [
       "7576481.835564053"
      ]
     },
     "execution_count": 4,
     "metadata": {},
     "output_type": "execute_result"
    }
   ],
   "source": [
    "#317 kcal/(mol A2)\n",
    "317000/4.184*100"
   ]
  },
  {
   "cell_type": "code",
   "execution_count": 5,
   "metadata": {},
   "outputs": [],
   "source": [
    "# Generamos el polímero\n",
    "\n",
    "#Coordenadas aleatorias iniciales\n",
    "polymer_xyz = polymer.positions(n_polymers=2,\n",
    "                             beads_per_chain=N_Beads,\n",
    "                             bond_length=dist_Beads, seed=Semilla)\n",
    "\n",
    "# MODIFICAR AQUI LA POSICION DE LOS POLIMEROS\n",
    "#polymer_xyz[1]=...\n",
    "\n",
    "#Parámetros del enlace \n",
    "k_bond_CC=7.6E6        #     en J/(mol nm2) = 317 kcal/(molA2)\n",
    "hb = HarmonicBond(k=k_bond_CC, r_0=dist_Beads)   # Unidades J/molnm2 i r_0: nm\n",
    "system.bonded_inter.add(hb)\n",
    "\n",
    "\n",
    "#POLIMERO NEUTRO\n",
    "\n",
    "for i_bead in range(N_Beads):\n",
    "    id = len(system.part)\n",
    "    system.part.add(id=id, pos=polymer_xyz[0][i_bead], type=type_A, q=charges[type_A]\n",
    "                        ,mass=mass[type_A],gamma=Fric[type_A])    \n",
    "    # Definir enlaces del bead (id) con el (id-1)\n",
    "    if i_bead > 0:\n",
    "        system.part[id].add_bond((hb, id - 1))\n",
    "    \n",
    "\n",
    "#POLIMERO CARGADO\n",
    "\n",
    "for i_bead in range(N_Beads):\n",
    "    id = len(system.part)\n",
    "    system.part.add(id=id, pos=polymer_xyz[1][i_bead], type=type_Q, q=charges[type_Q]\n",
    "                        ,mass=mass[type_Q],gamma=Fric[type_Q])    \n",
    "    # Definir enlaces del bead (id) con el (id-1)\n",
    "    if i_bead > 0:\n",
    "        system.part[id].add_bond((hb, id - 1))    "
   ]
  },
  {
   "cell_type": "markdown",
   "metadata": {},
   "source": [
    "La función <tt>polymer.positions</tt> permite construir nuestro polímero en posiciones aleatorias y adecuadas. Los argumentos requeridos nos permite configurar el número de polímeros, los beads por cadena de polímero y la distancia entre beads. Será necesario proporcionarle una semilla para generar las posiciones mediante un algoritmo generador de números pseudo-aleatorios. \n",
    "\n",
    "En este caso, asignamos partículas <tt>type_A</tt> (sin carga) a las posiciones aleatorias para el primer polímero <tt>polymer_xyz[0]</tt> mediante la función <tt>system.part.add</tt>. Repetimos el proceso con partículas <tt>type_Q</tt> (carga negativa) para el polímero  <tt>polymer_xyz[1]</tt>. \n",
    "\n",
    "Adicionalmente definimos el potencial armónico para los enlaces entre beads mediante la función <tt>HarmonicBond</tt>, el cual requiere que proporcionemos una constante de fuerza <tt>k</tt> y la distancia de equilibrio <tt>r0</tt>. Fíjate cómo añadimos el enlace <tt>hb</tt> (HarmonicBond) en la partícula <tt>id</tt> con la partícula <tt>id - 1</tt> mediante la función <tt>add_bond</tt>. De este modo añadimos las partículas y sus interacciones enlazantes iterativamente."
   ]
  },
  {
   "cell_type": "code",
   "execution_count": 9,
   "metadata": {},
   "outputs": [],
   "source": [
    "# Interacciones\n",
    "    \n",
    "lj_epsilon=5000.\n",
    "lj_sigma=0.5\n",
    "lj_cutoff=3.\n",
    "lj_shift=0.\n",
    "r_cut_DH=system.box_l[0]*0.4\n",
    "\n",
    "system.non_bonded_inter[type_A, type_A].lennard_jones.set_params(\n",
    "                epsilon=lj_epsilon, sigma=lj_sigma, cutoff=lj_cutoff, shift=lj_shift)    \n",
    "    \n",
    "system.non_bonded_inter[type_Q, type_A].lennard_jones.set_params(\n",
    "                epsilon=lj_epsilon, sigma=lj_sigma, cutoff=lj_cutoff, shift=lj_shift)    \n",
    "\n",
    "system.non_bonded_inter[type_Q, type_Q].lennard_jones.set_params(\n",
    "                epsilon=lj_epsilon/100, sigma=lj_sigma, cutoff=lj_cutoff, shift=lj_shift)    \n",
    "    \n",
    "    \n",
    "# Variables Medi\n",
    "kappa_gas=138072.   # en J/(mol nm)   Prefactor de Coulomb en fase gas\n",
    "\n",
    "# Constante dieléctrica del disolvente. Ej. Agua\n",
    "die_solvent=80\n",
    "\n",
    "prefactor_val=kappa_gas/die_solvent    \n",
    "kappa_DH=0   # Si 0 Sin fuerza iónica. Para kappa_DH=0 corresponde a Coulombico puro\n",
    "\n",
    "DHsolv = espressomd.electrostatics.DH(prefactor=prefactor_val,kappa=kappa_DH,r_cut=r_cut_DH,check_neutrality=False)\n",
    "system.actors.add(DHsolv)"
   ]
  },
  {
   "cell_type": "markdown",
   "metadata": {},
   "source": [
    "En este caso, añadimos las interacciones electrostáticas usando la teoría de Debye-Hückel para incluir la desviación por el efecto del apantallamiento respecto alcomportamento ideal en la solución con electrolitos. Con la función <tt>espressomd.electrostatics.DH</tt> definimos el potencial, que requiere de la inversa de la longitud de apantallamiento de Debye $k$ y un <tt>prefactor</tt>. Para que la interacción elestrotática sea efectiva durante la integración, debe introducirse en la lista de actores activos mediante la función <tt>system.actors.add</tt>. \n",
    "\n",
    "Una vez definidas las posiciones, partículas e interacciones de nuestro sistema, realizamos una minimización para reducir las posibles tensiones o superposiciones generadas durante la parametrización o definición de posiciones. Entonces definimos el integrador del método de Steepest Descent (SD) para propagar las partículas en distancias cortas paralelas a las fuerzas que actuan sobre ellas."
   ]
  },
  {
   "cell_type": "code",
   "execution_count": 10,
   "metadata": {},
   "outputs": [],
   "source": [
    "# Minimización energética\n",
    "max_displacement = 0.1 * lj_sigma\n",
    "damping          = 30\n",
    "Emin_per_step    = 100000\n",
    "\n",
    "system.time_step =  0.000003    # ns\n",
    "system.cell_system.skin =  0.3  \n",
    "\n",
    "system.integrator.set_steepest_descent(f_max=0, gamma=damping, max_displacement=max_displacement)\n",
    "system.integrator.run(Emin_per_step)"
   ]
  },
  {
   "cell_type": "markdown",
   "metadata": {},
   "source": [
    "Para realizar la minimización con SD necesitamos una <tt>f_max</tt> como criterio de convergencia para detener la minimización una vez la fuerza máxima de las partículas está situada por debajo de este umbral. La energía se relaja según <tt>gamma</tt> mientras que el máximo desplazamiento permitido de las coordenadas por paso se define con <tt>max_displacement</tt>."
   ]
  },
  {
   "cell_type": "code",
   "execution_count": 11,
   "metadata": {},
   "outputs": [],
   "source": [
    "# Activamos el Modelo Velocity-Verlet\n",
    "system.integrator.set_vv()\n",
    "\n",
    "# Activamos el termostáto\n",
    "system.thermostat.set_langevin(kT=RT, gamma=1 , seed=Semilla)"
   ]
  },
  {
   "cell_type": "code",
   "execution_count": 12,
   "metadata": {},
   "outputs": [],
   "source": [
    "niter=100\n",
    "pasos=1000\n",
    "\n",
    "tp.save_vxyz(system,'Trajectory3.xyz','w',aplicar_PBC=False)\n",
    "\n",
    "\n",
    "for it in range(pasos):\n",
    "    system.integrator.run(niter)                                    # Realiza niter de dinámica\n",
    "    tp.save_vxyz(system,'Trajectory3.xyz','a',aplicar_PBC=False)    # Save coordenada"
   ]
  },
  {
   "cell_type": "markdown",
   "metadata": {},
   "source": [
    "Una vez terminada la simulación, visualízala en el VMD. Fíjate en el comportamiento de cada polímero según la carga de las partículas. ¿Qué observas?"
   ]
  },
  {
   "cell_type": "markdown",
   "metadata": {},
   "source": [
    "# Práctica\n",
    "\n",
    "- Realiza otras simulaciones cambiando la constante dieléctrica del disolvente, variable die_solvent per 1, 20 y compara con el valor del agua de 80.\n",
    "\n",
    "- Genera un polímero cargado positivamente y otro negativamente\n",
    "\n",
    "- Estudia las dinámicas con polímeros de diferente medida. Si aumentas mucho el número de monómeros el tiempo de simulación incrementará excesivamente.\n",
    "\n"
   ]
  },
  {
   "cell_type": "code",
   "execution_count": null,
   "metadata": {},
   "outputs": [],
   "source": []
  }
 ],
 "metadata": {
  "kernelspec": {
   "display_name": "Python 3",
   "language": "python",
   "name": "python3"
  },
  "language_info": {
   "codemirror_mode": {
    "name": "ipython",
    "version": 3
   },
   "file_extension": ".py",
   "mimetype": "text/x-python",
   "name": "python",
   "nbconvert_exporter": "python",
   "pygments_lexer": "ipython3",
   "version": "3.8.10"
  }
 },
 "nbformat": 4,
 "nbformat_minor": 4
}
