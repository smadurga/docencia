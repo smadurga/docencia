{
 "cells": [
  {
   "cell_type": "markdown",
   "metadata": {},
   "source": [
    "# Sistema 4\n",
    "\n",
    "## Micela\n",
    "En este último problema trataremos de simular el proceso de formación de una micela, es decir, un sistema coloidal formado por moléculas tensioactivas en un disolvente. Las micelas en agua típicamente se forman a partir del agregado de moléculas anfipáticas, es decir, aquellas con un extremo hidrofílico (cabeza polar) y otro hidrofóbico (cola apolar) que aislan la parte apolar en el interior de la nueva estructura mientras exponen su cabeza polar en el agua, otorgándoles solubilidad en el disolvente. Un ejemplo es la sal de ácido oleico.\n",
    "\n",
    "A partir de las funciones aprendidas en los anteriores problemas, prepararemos un sistema con <tt>N_Polimers</tt> de <tt>N_Beads</tt>. Definimos el primer monómero o bead como <tt>type_Q</tt>, de carga negativa, mientras el resto de monómeros de la cadena están definidos como <tt>type_A</tt>, sin carga. A partir de las interacciones no-enlazantes (Lennard-Jones y Debye-Hückel) los polímeros se agregarán para formar las micelas gradualmente. Fíjate en el avance de la simulación para ver su proceso de formación."
   ]
  },
  {
   "cell_type": "code",
   "execution_count": 1,
   "metadata": {},
   "outputs": [],
   "source": [
    "import espressomd\n",
    "from espressomd import polymer\n",
    "from espressomd.interactions import HarmonicBond\n",
    "import espressomd.electrostatics\n",
    "import numpy as np\n",
    "import tipus_particules as tp"
   ]
  },
  {
   "cell_type": "code",
   "execution_count": 2,
   "metadata": {},
   "outputs": [],
   "source": [
    "#Dimensiones del sistema:\n",
    "system=espressomd.System(box_l=[6,6,6],periodicity=[False,False,False])   # Inicializamos el sistema. Caja de 6x6x6 nm3\n",
    "\n",
    "\n",
    "# Parámetros del sistema\n",
    "temperatura = 300\n",
    "R           = 8.314472\n",
    "RT          = temperatura * R\n",
    "\n",
    "N_Polimers=20\n",
    "N_Beads=8\n",
    "dist_Beads=0.5   # nm\n",
    "Semilla = 20"
   ]
  },
  {
   "cell_type": "code",
   "execution_count": 3,
   "metadata": {},
   "outputs": [],
   "source": [
    "#Partículas del sistema\n",
    "\n",
    "#Código numérico de los tipos de partículas.\n",
    "type_A = 0     \n",
    "type_Q = 2\n",
    "\n",
    "#Parámetros de carga\n",
    "charges = {}\n",
    "charges[type_A] = 0\n",
    "charges[type_Q] = -1.\n",
    "\n",
    "#Parámetros de masa en kg/mol\n",
    "mass = {}\n",
    "mass[type_A] = 0.050   # En kg/mol\n",
    "mass[type_Q] = 0.050   # En kg/mol\n",
    "\n",
    "# \n",
    "D_coeff = {}  # En nm2/ns\n",
    "D_coeff[type_A] = 1.0      # \n",
    "D_coeff[type_Q] = 1.0      # \n",
    "\n",
    "\n",
    "# Fricciones. Isotrópicas \n",
    "\n",
    "Fric={}\n",
    "Fric[type_A]=[RT/D_coeff[type_A]]*3\n",
    "Fric[type_Q]=[RT/D_coeff[type_Q]]*3"
   ]
  },
  {
   "cell_type": "code",
   "execution_count": 4,
   "metadata": {},
   "outputs": [],
   "source": [
    "# Generamos los polímeros\n",
    "\n",
    "#Coordenadas aleatorias iniciales\n",
    "polymers_xyz = polymer.positions(n_polymers=N_Polimers,\n",
    "                             beads_per_chain=N_Beads,\n",
    "                             bond_length=dist_Beads, seed=Semilla)\n",
    "\n",
    "#Parámetros del enlace \n",
    "k_bond_CC=7.6E6        #     en J/(mol nm2) = 317 kcal/(molA2)\n",
    "hb = HarmonicBond(k=k_bond_CC, r_0=dist_Beads)   # Unidades J/molnm2 i N: nm\n",
    "system.bonded_inter.add(hb)\n",
    "\n",
    "\n",
    "for polymer in polymers_xyz:\n",
    "    for index, position in enumerate(polymer):\n",
    "        id = len(system.part)\n",
    "    \n",
    "        if index==0:  # El primer índice: site Cargado\n",
    "            system.part.add(id=id, pos=position, type=type_Q, q=charges[type_Q]\n",
    "                        ,mass=mass[type_Q],gamma=Fric[type_Q])  \n",
    "        else:         # resto de sites de tipo A\n",
    "            system.part.add(id=id, pos=position, type=type_A, q=charges[type_A]\n",
    "                        ,mass=mass[type_A],gamma=Fric[type_A])\n",
    "        if index > 0:  # Añadir un enlace entre partículas id y id-1\n",
    "            system.part[id].add_bond((hb, id - 1))    "
   ]
  },
  {
   "cell_type": "code",
   "execution_count": 5,
   "metadata": {},
   "outputs": [],
   "source": [
    "# Interacciones\n",
    "    \n",
    "lj_epsilon=5000.\n",
    "lj_sigma=0.5\n",
    "lj_cutoff=2.4\n",
    "lj_shift=0.\n",
    "r_cut_DH=system.box_l[0]*0.4\n",
    "\n",
    "\n",
    "system.non_bonded_inter[type_A, type_A].lennard_jones.set_params(\n",
    "                epsilon=lj_epsilon, sigma=lj_sigma, cutoff=lj_cutoff, shift=lj_shift)    \n",
    "    \n",
    "system.non_bonded_inter[type_Q, type_A].lennard_jones.set_params(\n",
    "                epsilon=lj_epsilon, sigma=lj_sigma, cutoff=lj_cutoff, shift=lj_shift)    \n",
    "\n",
    "system.non_bonded_inter[type_Q, type_Q].lennard_jones.set_params(\n",
    "                epsilon=lj_epsilon/100, sigma=lj_sigma, cutoff=lj_cutoff, shift=lj_shift)    \n",
    "  \n",
    "# Variables Medi\n",
    "kappa_gas=138072.   # en J/(mol nm)   Prefactor de Coulomb en fase gas\n",
    "\n",
    "# Constante dieléctrica del disolvente. Ej. Agua\n",
    "die_solvent=80\n",
    "\n",
    "prefactor_val=kappa_gas/die_solvent    \n",
    "kappa_DH=0   # Si 0 Sin fuerza iónica. Para kappa_DH=0 corresponde a Coulombico puro    \n",
    "        \n",
    " \n",
    "DHsolv = espressomd.electrostatics.DH(prefactor=prefactor_val,kappa=kappa_DH,r_cut=r_cut_DH,check_neutrality=False)\n",
    "system.actors.add(DHsolv)   "
   ]
  },
  {
   "cell_type": "code",
   "execution_count": 6,
   "metadata": {},
   "outputs": [
    {
     "name": "stdout",
     "output_type": "stream",
     "text": [
      "rel. force change:1.00e+00, force:6.45e+07\n",
      "rel. force change:0.00e+00, force:6.45e+07\n"
     ]
    }
   ],
   "source": [
    "# Minimización energética\n",
    "force_tolerance  = 0.1\n",
    "max_steps        = 5000\n",
    "max_displacement = 0.1 * lj_sigma\n",
    "damping          = 30\n",
    "Emin_per_step    = 1000\n",
    "\n",
    "system.time_step =  0.000003    # ns\n",
    "system.cell_system.skin =  0.3  \n",
    "\n",
    "system.integrator.set_steepest_descent(f_max=0, gamma=damping, max_displacement=max_displacement)\n",
    "system.integrator.run(0)\n",
    "old_force = np.max(np.linalg.norm(system.part[:].f, axis=1))\n",
    "\n",
    "while system.time / system.time_step < max_steps:\n",
    "    system.integrator.run(Emin_per_step)\n",
    "    force = np.max(np.linalg.norm(system.part[:].f, axis=1))\n",
    "    rel_force = np.abs((force - old_force) / old_force)\n",
    "    print(f'rel. force change:{rel_force:.2e}, force:{force:.2e}')\n",
    "    if rel_force < force_tolerance :\n",
    "        break\n",
    "    old_force = force"
   ]
  },
  {
   "cell_type": "code",
   "execution_count": 7,
   "metadata": {},
   "outputs": [],
   "source": [
    "# Activamos el Modelo Velocity-Verlet\n",
    "system.integrator.set_vv()\n",
    "# Activamos el termostato\n",
    "system.thermostat.set_langevin(kT=RT, gamma=1 , seed=Semilla)"
   ]
  },
  {
   "cell_type": "code",
   "execution_count": 8,
   "metadata": {},
   "outputs": [],
   "source": [
    "import datetime\n",
    "inicio = datetime.datetime.now()"
   ]
  },
  {
   "cell_type": "code",
   "execution_count": 9,
   "metadata": {},
   "outputs": [
    {
     "name": "stdout",
     "output_type": "stream",
     "text": [
      "Simulando 0 de 2000 pasos\n",
      "Simulando 100 de 2000 pasos\n",
      "Simulando 200 de 2000 pasos\n",
      "Simulando 300 de 2000 pasos\n",
      "Simulando 400 de 2000 pasos\n",
      "Simulando 500 de 2000 pasos\n",
      "Simulando 600 de 2000 pasos\n",
      "Simulando 700 de 2000 pasos\n",
      "Simulando 800 de 2000 pasos\n",
      "Simulando 900 de 2000 pasos\n",
      "Simulando 1000 de 2000 pasos\n",
      "Simulando 1100 de 2000 pasos\n",
      "Simulando 1200 de 2000 pasos\n",
      "Simulando 1300 de 2000 pasos\n",
      "Simulando 1400 de 2000 pasos\n",
      "Simulando 1500 de 2000 pasos\n",
      "Simulando 1600 de 2000 pasos\n",
      "Simulando 1700 de 2000 pasos\n",
      "Simulando 1800 de 2000 pasos\n",
      "Simulando 1900 de 2000 pasos\n"
     ]
    }
   ],
   "source": [
    "niter=500\n",
    "pasos=2000\n",
    "\n",
    "tp.save_vxyz(system,'Trajectory4_NPoly20_NBeads8.xyz','w',aplicar_PBC=False)\n",
    "\n",
    "\n",
    "for it in range(pasos):\n",
    "    system.integrator.run(niter)                  # Realiza niter de dinámica\n",
    "    tp.save_vxyz(system,'Trajectory4_NPoly20_NBeads8.xyz','a',aplicar_PBC=False)    # Save coordenada\n",
    "    if it%100==0:\n",
    "        print('Simulando {} de {} pasos'.format(it,pasos))"
   ]
  },
  {
   "cell_type": "code",
   "execution_count": 10,
   "metadata": {},
   "outputs": [
    {
     "name": "stdout",
     "output_type": "stream",
     "text": [
      "Tiempo de cálculo 0:03:06.066180\n"
     ]
    }
   ],
   "source": [
    "fin = datetime.datetime.now()\n",
    "print('Tiempo de cálculo {}'.format(fin-inicio))"
   ]
  },
  {
   "cell_type": "markdown",
   "metadata": {},
   "source": [
    "# Práctica\n",
    "- Estudia la formación de una micela a partir de un modelo sencillo de tensioactivo, cabeza polar y cola hidrofóbica.\n",
    "- Analiza el efecto del tamaño del tensioactivo."
   ]
  },
  {
   "cell_type": "code",
   "execution_count": null,
   "metadata": {},
   "outputs": [],
   "source": []
  }
 ],
 "metadata": {
  "kernelspec": {
   "display_name": "Python 3",
   "language": "python",
   "name": "python3"
  },
  "language_info": {
   "codemirror_mode": {
    "name": "ipython",
    "version": 3
   },
   "file_extension": ".py",
   "mimetype": "text/x-python",
   "name": "python",
   "nbconvert_exporter": "python",
   "pygments_lexer": "ipython3",
   "version": "3.8.10"
  }
 },
 "nbformat": 4,
 "nbformat_minor": 4
}
